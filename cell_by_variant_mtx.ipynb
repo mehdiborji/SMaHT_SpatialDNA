{
 "cells": [
  {
   "cell_type": "code",
   "execution_count": null,
   "id": "fdde1d33-a7e8-41e6-a163-69306b1a0c47",
   "metadata": {},
   "outputs": [],
   "source": [
    "import pandas as pd\n",
    "import pysam\n",
    "import seaborn as sns\n",
    "import numpy as np\n",
    "import matplotlib.pyplot as plt\n",
    "import gzip\n",
    "import scipy.io\n",
    "from scipy.sparse import csr_matrix"
   ]
  },
  {
   "cell_type": "code",
   "execution_count": null,
   "id": "cdfb03aa-8561-4063-b993-99aa2da8d34b",
   "metadata": {},
   "outputs": [],
   "source": [
    "vcfile = pd.read_table('xSDS_variants.txt')"
   ]
  },
  {
   "cell_type": "code",
   "execution_count": null,
   "id": "2f6c3a69-b0d3-4d1b-9b06-ec3ef7cc58f7",
   "metadata": {},
   "outputs": [],
   "source": [
    "vcfile['Transition'] = vcfile['Ref']+'>'+vcfile['Alt']"
   ]
  },
  {
   "cell_type": "code",
   "execution_count": null,
   "id": "16b06577-8523-4c06-8e16-26fdb79d632a",
   "metadata": {},
   "outputs": [],
   "source": [
    "base_trans = vcfile.Transition.value_counts().iloc[:12]"
   ]
  },
  {
   "cell_type": "code",
   "execution_count": null,
   "id": "6c9ace99-96d1-4843-be78-fc2e8cb8389f",
   "metadata": {},
   "outputs": [],
   "source": [
    "vcfile.Transition.value_counts().head(40)"
   ]
  },
  {
   "cell_type": "code",
   "execution_count": null,
   "id": "f48f1151-d3a7-4b9b-9877-df8087c34858",
   "metadata": {},
   "outputs": [],
   "source": [
    "vcfile = vcfile[vcfile.Transition.isin(base_trans.index)].copy()"
   ]
  },
  {
   "cell_type": "code",
   "execution_count": null,
   "id": "a80ab516-19e6-4d3a-afb9-cf5ff36942eb",
   "metadata": {},
   "outputs": [],
   "source": [
    "vcfile['var_name'] = vcfile['Chr']+ '_'+ vcfile['Pos'].astype('str') + '_' + vcfile.Transition"
   ]
  },
  {
   "cell_type": "code",
   "execution_count": null,
   "id": "c1df69cf-99e5-494d-ac98-71a5b1ad87b8",
   "metadata": {},
   "outputs": [],
   "source": [
    "vcfile = vcfile.set_index('var_name')"
   ]
  },
  {
   "cell_type": "code",
   "execution_count": null,
   "id": "6d84b553-bab8-4724-badd-f2e7b97fbcac",
   "metadata": {},
   "outputs": [],
   "source": [
    "vcfile"
   ]
  },
  {
   "cell_type": "code",
   "execution_count": null,
   "id": "f46cdcde-ccd8-4276-9c1f-c9b53b5ad30b",
   "metadata": {},
   "outputs": [],
   "source": [
    "bam_file = '/n/scratch/users/m/meb521/153_A22KHFYLT3/xBO153_merge/xBO153_merge_markdup_piped.bam'\n",
    "white_list = pd.read_csv('/n/scratch/users/m/meb521/153_A22KHFYLT3/xBO153_merge/xBO153_merge_whitelist.csv').tenx_whitelist\n",
    "bc_idx_dict = dict(zip(white_list.tolist(),white_list.index))\n",
    "\n",
    "rows_idx = []\n",
    "cols_idx = []\n",
    "row_col_values = []\n",
    "\n",
    "for ii in range(len(vcfile)):\n",
    "    chrom = vcfile.iloc[ii]['Chr']\n",
    "    start = vcfile.iloc[ii]['Pos']-1\n",
    "    end = start+1\n",
    "    ref=vcfile.iloc[ii]['Ref']\n",
    "    alt=vcfile.iloc[ii]['Alt']\n",
    "    \n",
    "    if ii%10==0:\n",
    "        print(ii,vcfile.iloc[ii].name)\n",
    "    samfile = pysam.AlignmentFile(bam_file, \"rb\" )\n",
    "    for pileupcolumn in samfile.pileup(chrom, start, end, min_base_quality=0, max_depth=1000000, truncate=True): #,\n",
    "\n",
    "        all_bases = []\n",
    "        for pileupread in pileupcolumn.pileups:\n",
    "            if not pileupread.is_del and not pileupread.is_refskip:\n",
    "\n",
    "                line = [pileupread.alignment.get_tag('CB'),\n",
    "                        pileupread.alignment.query_sequence[pileupread.query_position],\n",
    "                        pileupread.alignment.query_qualities[pileupread.query_position]]\n",
    "                all_bases.append(line)\n",
    "\n",
    "    df = pd.DataFrame(all_bases)\n",
    "\n",
    "    df = df[ (df[1].isin([ref,alt])) & (df[0].isin(bc_idx_dict))].copy()\n",
    "    all_bcs = df[0].unique()\n",
    "\n",
    "    df = df.set_index(0)\n",
    "\n",
    "    vafs = []\n",
    "    for bc in all_bcs:\n",
    "        list_var = df.loc[bc][1]\n",
    "        if len(list_var)>1:\n",
    "            variants = ''.join(df.loc[bc][1].to_list())\n",
    "        else:\n",
    "            variants = df.loc[bc][1]\n",
    "        vaf = variants.count(alt)/len(variants)\n",
    "        vafs.append(vaf+1)\n",
    "    \n",
    "    col_vals = (np.ones(len(vafs), dtype=int) * ii).tolist()\n",
    "    row_vals = [bc_idx_dict[key] for key in all_bcs]\n",
    "\n",
    "    cols_idx.extend(col_vals)  # genes\n",
    "    rows_idx.extend(row_vals)  # cells\n",
    "\n",
    "    row_col_values.extend(vafs)\n",
    "    \n",
    "shape = (len(bc_idx_dict), len(vcfile))\n",
    "\n",
    "csr = csr_matrix((row_col_values, (rows_idx, cols_idx)), shape=shape, dtype=\"float32\")\n",
    "\n",
    "csr_file = f\"variants_colon.mtx.gz\"\n",
    "\n",
    "with gzip.open(csr_file, \"wb\") as out:\n",
    "    scipy.io.mmwrite(out, csr)"
   ]
  }
 ],
 "metadata": {
  "kernelspec": {
   "display_name": "Python 3 (ipykernel)",
   "language": "python",
   "name": "python3"
  },
  "language_info": {
   "codemirror_mode": {
    "name": "ipython",
    "version": 3
   },
   "file_extension": ".py",
   "mimetype": "text/x-python",
   "name": "python",
   "nbconvert_exporter": "python",
   "pygments_lexer": "ipython3",
   "version": "3.7.10"
  }
 },
 "nbformat": 4,
 "nbformat_minor": 5
}
